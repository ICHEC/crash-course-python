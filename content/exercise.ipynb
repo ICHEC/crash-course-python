{
 "cells": [
  {
   "cell_type": "markdown",
   "metadata": {
    "cell_id": "00000-f05399c9-7c7f-4749-bf43-76a5f8022deb",
    "deepnote_cell_type": "markdown",
    "tags": []
   },
   "source": [
    "<center>\n",
    "    \n",
    "# Python Crash Course\n",
    "# Exercises\n",
    "    \n",
    "</center>"
   ]
  },
  {
   "cell_type": "markdown",
   "metadata": {},
   "source": [
    "## Exercise 1: Energy Levels of Hydrogen"
   ]
  },
  {
   "cell_type": "code",
   "execution_count": 2,
   "metadata": {
    "cell_id": "00001-46c834af-99f3-47f5-be8e-a298939f9b64",
    "deepnote_cell_type": "code",
    "deepnote_to_be_reexecuted": false,
    "execution_millis": 5,
    "execution_start": 1624620212973,
    "id": "08ToGxEG2Iab",
    "source_hash": "d1334db6"
   },
   "outputs": [],
   "source": [
    "h = 6.62607015e-34\n",
    "c = 299792458\n",
    "pi = 3.14159265359\n",
    "hbar = h/(2 * pi)\n",
    "e = 1.602176634e-19\n",
    "me = 9.10938370e-31\n",
    "ep0 = 8.85418781e-12"
   ]
  },
  {
   "cell_type": "markdown",
   "metadata": {
    "cell_id": "00008-79583f4d-ffdf-4b07-89c2-4f266e000523",
    "deepnote_cell_type": "markdown",
    "id": "q0VdN_WgMZi3"
   },
   "source": [
    "Use these to calculate the Bohr radius,\n",
    "\n",
    "$$\n",
    "a_0 = \\frac {4\\pi\\epsilon_0 \\hbar^2}{e^2 m_e}\n",
    "$$\n",
    "\n",
    "Write the above expression using the variable above, and compute the Bohr radius, saved in variable name `bohr_radius`\n",
    "\n",
    "Use `print(bohr_radius)` to print it. Use the cell below for this part of exercise."
   ]
  },
  {
   "cell_type": "code",
   "execution_count": null,
   "metadata": {
    "cell_id": "00009-34d361f4-4e33-45e5-8258-9bca5c3fdb3e",
    "colab": {
     "base_uri": "https://localhost:8080/"
    },
    "deepnote_cell_type": "code",
    "deepnote_to_be_reexecuted": false,
    "executionInfo": {
     "elapsed": 41,
     "status": "ok",
     "timestamp": 1623947222801,
     "user": {
      "displayName": "Sean Courtney",
      "photoUrl": "",
      "userId": "17219612104113445790"
     },
     "user_tz": -60
    },
    "execution_millis": 5,
    "execution_start": 1624620213017,
    "id": "OxSOoGnMMZi8",
    "outputId": "99c79b33-65a1-4218-d735-9a8861feeeb6",
    "source_hash": "fb43f0e5"
   },
   "outputs": [],
   "source": []
  },
  {
   "cell_type": "markdown",
   "metadata": {
    "cell_id": "00010-9c9ed130-edb5-4139-b676-ae5c39cf58d8",
    "deepnote_cell_type": "markdown",
    "id": "FVHZwjAm-ogG"
   },
   "source": [
    "The energy of the $n$-th is given by\n",
    "$$ E_n = - \\frac{e^2}{8 \\pi \\varepsilon_0 a_0 n^2} = \\left(- \\frac{e^2}{8 \\pi \\varepsilon_0 a_0}\\right)\\frac {1}{n^2} = \\frac{E_1}{n^2} $$\n",
    "\n",
    "where\n",
    "\n",
    "$$\n",
    "E_1 = - \\frac{e^2}{8 \\pi \\varepsilon_0 a_0}\n",
    "$$\n",
    "\n",
    "Compute the value of $E_1$ (which gives you energy in Joules), and $E_1/e$ (which gives you energy in eV).\n",
    "\n",
    "Using a `for` loop, create a list of energy levels for $n=1,2,3,...30$. Write the relevant code in the cell below to execute."
   ]
  },
  {
   "cell_type": "code",
   "execution_count": null,
   "metadata": {
    "cell_id": "00011-175012e8-4132-4eb6-adfe-d9501c093d3a",
    "deepnote_cell_type": "code",
    "deepnote_to_be_reexecuted": false,
    "execution_millis": 13,
    "execution_start": 1624620213018,
    "id": "-MhB23Fs-Z6l",
    "source_hash": "ee42086f"
   },
   "outputs": [],
   "source": []
  },
  {
   "cell_type": "markdown",
   "metadata": {},
   "source": [
    "Generate the same list, but this time use list comprehension. "
   ]
  },
  {
   "cell_type": "code",
   "execution_count": null,
   "metadata": {
    "cell_id": "00033-ccf10dd2-b355-4716-b322-3ebc068f3292",
    "deepnote_cell_type": "code",
    "deepnote_to_be_reexecuted": false,
    "execution_millis": 21,
    "execution_start": 1624620213134,
    "id": "p2t2eqh94wNv",
    "source_hash": "8facb0bf"
   },
   "outputs": [],
   "source": []
  },
  {
   "cell_type": "markdown",
   "metadata": {
    "cell_id": "00036-e4111188-eabb-4fdb-a400-d556b14485f4",
    "deepnote_cell_type": "markdown",
    "id": "aOOniBHH40t1"
   },
   "source": [
    "## Exercise 2: Prime numbers\n",
    "\n",
    "In this exercise we will try to create a list of prime numbers. Assume we have a given number $N=100$, define it as a variable `N`.\n",
    "\n",
    "- Create a list of integers from 2, 3, ... to `N`. Let's call this list `l_nums`. Is the list sorted? If not, sort it.\n",
    " \n",
    "- Using a `for` loop, and `if else...` constructs, implement following: \n",
    "  - Take the first element of the list, and remove all the higher multiples of it from the list.\n",
    "  - Do it, until no removal is needed, and there is no number in the list that is multiple of any other.\n",
    "\n",
    "- Are all the elements in the list primes? copy this list to another variable called `l_primes`.\n",
    "\n",
    "- Use this code to get the list of primes to up-to $N=1000$.\n",
    "\n",
    "**Note:** list can be sorted by method `list.sort()` (it sorts in-place). An element from a list can be deleted using `list.pop()`, or `list.remove()`."
   ]
  },
  {
   "cell_type": "code",
   "execution_count": null,
   "metadata": {
    "cell_id": "00037-56c71b71-411a-425c-ba38-ebea146f50b6",
    "colab": {
     "base_uri": "https://localhost:8080/"
    },
    "deepnote_cell_type": "code",
    "deepnote_to_be_reexecuted": false,
    "executionInfo": {
     "elapsed": 30,
     "status": "ok",
     "timestamp": 1623947222814,
     "user": {
      "displayName": "Sean Courtney",
      "photoUrl": "",
      "userId": "17219612104113445790"
     },
     "user_tz": -60
    },
    "execution_millis": 16,
    "execution_start": 1624620213140,
    "id": "DvzgvHh045lx",
    "outputId": "bb77d903-9205-4849-8c12-4708e3369878",
    "source_hash": "4be84179"
   },
   "outputs": [],
   "source": []
  },
  {
   "cell_type": "markdown",
   "id": "fd9682be",
   "metadata": {
    "cell_id": "00001-147623df-3301-498c-b799-44c075d459d5",
    "deepnote_cell_type": "markdown",
    "id": "NpAZcOPTjIJw"
   },
   "source": [
    "## Exercise 3: Decimal to/from Binary\n",
    "\n",
    "Here we do some exercise of converting binary numbers to decimal, and decimal numbers to binary.\n",
    "\n",
    "- Write a code that converts a decimal integer to a binary string, using a while loop and not just recasting. Below a sample input is prepared in the cell, with decimal number 745.\n",
    "\n",
    "- Write a code that converts binary string to a decimal integer, using a for loop and not just recasting. The input binary for this is '10111001' represented as string.\n",
    "\n",
    "**Hint:** you can loop through the characters in a string but remeber to cast to an* `int` *to do do calculations but make sure that you are reading the binary in the right direction..."
   ]
  },
  {
   "cell_type": "code",
   "execution_count": 7,
   "id": "47c5170e",
   "metadata": {
    "cell_id": "00002-e95b14e9-5d10-4f55-bd7d-56f1261721c5",
    "colab": {
     "base_uri": "https://localhost:8080/"
    },
    "deepnote_cell_type": "code",
    "deepnote_to_be_reexecuted": false,
    "executionInfo": {
     "elapsed": 5,
     "status": "ok",
     "timestamp": 1624455609657,
     "user": {
      "displayName": "Sean Courtney",
      "photoUrl": "",
      "userId": "17219612104113445790"
     },
     "user_tz": -60
    },
    "execution_millis": 40,
    "execution_start": 1624616983705,
    "id": "lLK-5PWPibCr",
    "outputId": "83fe4a6b-f8e6-4a40-b7fd-44a70631dc8d",
    "source_hash": "53a0fd1e"
   },
   "outputs": [
    {
     "name": "stdout",
     "output_type": "stream",
     "text": [
      "\n",
      "0\n"
     ]
    }
   ],
   "source": [
    "# first part\n",
    "decimal = 745\n",
    "\n",
    "binary = ''\n",
    "\n",
    "# your code here\n",
    "\n",
    "\n",
    "print(binary)\n",
    "\n",
    "# second part\n",
    "binary = '10111001'\n",
    "\n",
    "decimal = 0\n",
    "\n",
    "# your code here\n",
    "\n",
    "\n",
    "print(decimal)"
   ]
  },
  {
   "cell_type": "markdown",
   "id": "acf6872d",
   "metadata": {
    "cell_id": "00011-2635667d-a067-440f-81fe-a1ab49bf4616",
    "deepnote_cell_type": "markdown",
    "id": "aOOniBHH40t1"
   },
   "source": [
    "## Exercise 4: Pauli matrices\n",
    "\n",
    "Following matrices are called Pauli matrices,  or Pauli gates\n",
    "\n",
    "$$ X = \\begin{pmatrix}\n",
    "0 & 1 \\\\ 1&0\n",
    "\\end{pmatrix}, \\ \\ \\ \n",
    "Y = \\begin{pmatrix}\n",
    "0 & -i \\\\ i&0\n",
    "\\end{pmatrix}, \\ \\ \\ \n",
    "Z = \\begin{pmatrix}\n",
    "1 & 0 \\\\ 0&-1\n",
    "\\end{pmatrix}$$\n",
    "\n",
    "- Using nested lists for each row, represent the X, Y, Z, and print them.\n",
    "- Import `numpy`, and convert them into numpy arrays, and print them.\n",
    "- Compute the following matrix multiplications: (Use numpy for this, no need for loop)\n",
    "  - X*X, Y*Y Z*Z\n",
    "  - X*Y, Y*X, Y*Z, Z*Y, Z*X, X*Z\n",
    "- Print these\n",
    "\n",
    "\n",
    "Use the cell below."
   ]
  },
  {
   "cell_type": "code",
   "execution_count": null,
   "id": "c4e70dbc",
   "metadata": {
    "cell_id": "00012-2137300a-a551-4547-8d81-70a97fbd9efd",
    "colab": {
     "base_uri": "https://localhost:8080/"
    },
    "deepnote_cell_type": "code",
    "deepnote_to_be_reexecuted": false,
    "executionInfo": {
     "elapsed": 15,
     "status": "ok",
     "timestamp": 1623937069417,
     "user": {
      "displayName": "Sean Courtney",
      "photoUrl": "",
      "userId": "17219612104113445790"
     },
     "user_tz": -60
    },
    "execution_millis": 6,
    "execution_start": 1624888714484,
    "id": "DvzgvHh045lx",
    "outputId": "6bb0bdc0-b519-4fdc-aea4-711609d4eff4",
    "source_hash": "d1f52fd6"
   },
   "outputs": [],
   "source": [
    "X = \n",
    "Y = \n",
    "Z = \n",
    "\n",
    "print(\"X = \", X)\n",
    "print(\"Y = \", Y)\n",
    "print(\"Z = \", Z)"
   ]
  },
  {
   "cell_type": "markdown",
   "id": "2894a8ba",
   "metadata": {
    "cell_id": "00049-817fbe72-3ccd-437e-868a-ea403bafed58",
    "deepnote_cell_type": "markdown",
    "id": "2bea5e40"
   },
   "source": [
    "## Exercise 5: Rotating Vectors In 2-Dimensions\n",
    "\n",
    "We can define a vector in two-dimensions with two values \"x\" and \"y\", where the vector points from the origin to the coordinates $$(x,y)$$ and has magnitude given by $$ \\sqrt{x^2 + y^2} $$\n",
    "\n",
    "The vector is written as a 2x1 matrix, as follows:\n",
    "\n",
    "$$ \\begin{pmatrix}\n",
    "x \\\\\n",
    "y\n",
    "\\end{pmatrix}$$\n",
    "\n",
    "We can rotate the vector around the origin by multiplying it by a matrix, namely a rotational matrix, given by:\n",
    "\n",
    "$$ \\begin{pmatrix}\n",
    "\\cos\\theta & -\\sin\\theta \\\\\n",
    "\\sin\\theta & \\cos\\theta\n",
    "\\end{pmatrix}$$\n",
    "\n",
    "If we want to rotate by an angle $ \\theta = \\pi/2 $ then we obtain the rotation matrix:\n",
    "\n",
    "$$ \\begin{pmatrix}\n",
    "0 & -1 \\\\\n",
    "1& 0\n",
    "\\end{pmatrix}$$\n",
    "\n",
    "- Find the resulting vector after rotating the vector, with $x=1$ and $y=1$, by $\\pi/2$. Print the answer.\n",
    "\n",
    "- Calculate the magnitude of the initial vector and the resulting vector. Check if they are equal, print a boolean answer.\n",
    "\n",
    "Use the cell below."
   ]
  },
  {
   "cell_type": "code",
   "execution_count": null,
   "id": "53d5e651",
   "metadata": {
    "cell_id": "00050-a25fd750-46b8-4740-aa10-728766aa5cf9",
    "deepnote_cell_type": "code",
    "deepnote_to_be_reexecuted": true,
    "id": "c20ba821",
    "source_hash": "a7ebf5ed"
   },
   "outputs": [],
   "source": [
    "Vector = [1,1]\n",
    "Rotation = [[0,-1],[1,0]]\n",
    "Result = [0,0]\n",
    "\n",
    "\n",
    "print(Result)"
   ]
  },
  {
   "cell_type": "markdown",
   "id": "657c4d50",
   "metadata": {
    "cell_id": "00051-04bfdf0d-303a-4f00-9e36-6d16b7e42836",
    "deepnote_cell_type": "markdown",
    "id": "a46a95a1"
   },
   "source": [
    "# Exercise 6: Plotting\n",
    "\n",
    "Recall the exercises 1, and 2 where you created a list of energy levels and a list of primes.\n",
    "\n",
    "- Plot the list of energy levels using `matplotlib` \n",
    "\n",
    "- Plot the list of primes using `matplotlib` \n",
    "\n",
    "Use the cell below"
   ]
  },
  {
   "cell_type": "code",
   "execution_count": null,
   "id": "269739c9",
   "metadata": {
    "cell_id": "00052-17de47d0-60b7-4774-91d5-39610539525a",
    "deepnote_cell_type": "code",
    "deepnote_to_be_reexecuted": true,
    "id": "d3af174d",
    "source_hash": "fcf13380"
   },
   "outputs": [],
   "source": []
  }
 ],
 "metadata": {
  "colab": {
   "collapsed_sections": [],
   "name": "PyQM_Ex.1_sol.ipynb",
   "provenance": []
  },
  "deepnote": {},
  "deepnote_execution_queue": [],
  "deepnote_notebook_id": "ea4afaac-11a3-41e4-8e9b-39a77aacc131",
  "kernelspec": {
   "display_name": "jb",
   "language": "python",
   "name": "python3"
  },
  "language_info": {
   "codemirror_mode": {
    "name": "ipython",
    "version": 3
   },
   "file_extension": ".py",
   "mimetype": "text/x-python",
   "name": "python",
   "nbconvert_exporter": "python",
   "pygments_lexer": "ipython3",
   "version": "3.12.2"
  }
 },
 "nbformat": 4,
 "nbformat_minor": 1
}
