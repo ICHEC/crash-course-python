{
 "cells": [
  {
   "cell_type": "markdown",
   "metadata": {
    "cell_id": "00000-f05399c9-7c7f-4749-bf43-76a5f8022deb",
    "deepnote_cell_type": "markdown",
    "tags": []
   },
   "source": [
    "<center>\n",
    "    \n",
    "# Python Crash Course\n",
    "# 1: Excercises\n",
    "    \n",
    "</center>"
   ]
  },
  {
   "cell_type": "markdown",
   "metadata": {},
   "source": [
    "## Excercise 1: Energy Levels of Hydrogen"
   ]
  },
  {
   "cell_type": "code",
   "execution_count": 1,
   "metadata": {
    "cell_id": "00001-46c834af-99f3-47f5-be8e-a298939f9b64",
    "deepnote_cell_type": "code",
    "deepnote_to_be_reexecuted": false,
    "execution_millis": 5,
    "execution_start": 1624620212973,
    "id": "08ToGxEG2Iab",
    "source_hash": "d1334db6"
   },
   "outputs": [],
   "source": [
    "h = 6.62607015e-34\n",
    "c = 299792458\n",
    "pi = 3.14159265359\n",
    "hbar = h/(2 * pi)\n",
    "e = 1.602176634e-19\n",
    "me = 9.10938370e-31\n",
    "ep0 = 8.85418781e-12"
   ]
  },
  {
   "cell_type": "markdown",
   "metadata": {
    "cell_id": "00008-79583f4d-ffdf-4b07-89c2-4f266e000523",
    "deepnote_cell_type": "markdown",
    "id": "q0VdN_WgMZi3"
   },
   "source": [
    "Use these to calculate the Bohr radius,\n",
    "$$a_0 = \\frac{\\hbar}{m_e c \\alpha} $$"
   ]
  },
  {
   "cell_type": "code",
   "execution_count": null,
   "metadata": {
    "cell_id": "00009-34d361f4-4e33-45e5-8258-9bca5c3fdb3e",
    "colab": {
     "base_uri": "https://localhost:8080/"
    },
    "deepnote_cell_type": "code",
    "deepnote_to_be_reexecuted": false,
    "executionInfo": {
     "elapsed": 41,
     "status": "ok",
     "timestamp": 1623947222801,
     "user": {
      "displayName": "Sean Courtney",
      "photoUrl": "",
      "userId": "17219612104113445790"
     },
     "user_tz": -60
    },
    "execution_millis": 5,
    "execution_start": 1624620213017,
    "id": "OxSOoGnMMZi8",
    "outputId": "99c79b33-65a1-4218-d735-9a8861feeeb6",
    "source_hash": "fb43f0e5"
   },
   "outputs": [],
   "source": []
  },
  {
   "cell_type": "markdown",
   "metadata": {
    "cell_id": "00010-9c9ed130-edb5-4139-b676-ae5c39cf58d8",
    "deepnote_cell_type": "markdown",
    "id": "FVHZwjAm-ogG"
   },
   "source": [
    "The energy of the $n$-th is given by\n",
    "$$ E_n = - \\frac{e^2}{8 \\pi \\varepsilon_0 a_0 n^2} = \\frac{E_1}{n^2} $$\n",
    "Make a variable for the $n=1$ energy level.\n",
    "<img src=\"images/Energy_Levels.png\" alt=\"two dice\" width=\"500\"/>"
   ]
  },
  {
   "cell_type": "code",
   "execution_count": null,
   "metadata": {
    "cell_id": "00011-175012e8-4132-4eb6-adfe-d9501c093d3a",
    "deepnote_cell_type": "code",
    "deepnote_to_be_reexecuted": false,
    "execution_millis": 13,
    "execution_start": 1624620213018,
    "id": "-MhB23Fs-Z6l",
    "source_hash": "ee42086f"
   },
   "outputs": [],
   "source": []
  },
  {
   "cell_type": "markdown",
   "metadata": {
    "cell_id": "00012-28d964b0-984a-4bcf-804e-c61b061a17b4",
    "deepnote_cell_type": "markdown",
    "id": "nkrjiEcmPDRw"
   },
   "source": [
    "Change to electron volts (eV) by deviding by $e$."
   ]
  },
  {
   "cell_type": "code",
   "execution_count": null,
   "metadata": {
    "cell_id": "00013-5007552a-e68b-438a-92b8-50ec9d157b60",
    "deepnote_cell_type": "code",
    "deepnote_to_be_reexecuted": false,
    "execution_start": 1624620213019,
    "id": "NVg_NsZoPCmU",
    "source_hash": "d7b616a"
   },
   "outputs": [],
   "source": []
  },
  {
   "cell_type": "markdown",
   "metadata": {
    "cell_id": "00014-5890584c-5bd0-47ab-a06d-d560568f1f0f",
    "deepnote_cell_type": "markdown",
    "id": "C7MFXI8PCQSB"
   },
   "source": [
    "Make a list with this as the only element to store the energy levels."
   ]
  },
  {
   "cell_type": "code",
   "execution_count": null,
   "metadata": {
    "cell_id": "00015-36b44129-3176-429d-bd9e-2a80fceb0c5c",
    "deepnote_cell_type": "code",
    "deepnote_to_be_reexecuted": false,
    "execution_start": 1624620213042,
    "id": "zT7pTXwDCMgZ",
    "source_hash": "e25ca05f"
   },
   "outputs": [],
   "source": []
  },
  {
   "cell_type": "markdown",
   "metadata": {
    "cell_id": "00016-0a9c8bc8-0a3d-40aa-832e-c3ca62a114df",
    "deepnote_cell_type": "markdown",
    "id": "glAtccwpDMSx"
   },
   "source": [
    "Append this list with the next 5 values for $n$."
   ]
  },
  {
   "cell_type": "code",
   "execution_count": null,
   "metadata": {
    "cell_id": "00022-ff92cb6c-77d5-4f63-947e-b755af00fef4",
    "colab": {
     "base_uri": "https://localhost:8080/"
    },
    "deepnote_cell_type": "code",
    "deepnote_to_be_reexecuted": false,
    "executionInfo": {
     "elapsed": 38,
     "status": "ok",
     "timestamp": 1623947222807,
     "user": {
      "displayName": "Sean Courtney",
      "photoUrl": "",
      "userId": "17219612104113445790"
     },
     "user_tz": -60
    },
    "execution_millis": 26,
    "execution_start": 1624620213086,
    "id": "t_fTcdMoD6ES",
    "outputId": "72afc770-d661-479d-a09b-56a9f1c7ac5c",
    "source_hash": "af1066fb"
   },
   "outputs": [],
   "source": []
  },
  {
   "cell_type": "markdown",
   "metadata": {
    "cell_id": "00024-dffeea35-424b-48a7-ac5a-8df589daf6b5",
    "deepnote_cell_type": "markdown",
    "id": "QkqISAMCDwgN"
   },
   "source": [
    "Cast this list into a set to remove any dubplicates you may have created."
   ]
  },
  {
   "cell_type": "code",
   "execution_count": null,
   "metadata": {
    "cell_id": "00025-eac5784a-60d0-4fd4-aff6-e5b77393a286",
    "colab": {
     "base_uri": "https://localhost:8080/"
    },
    "deepnote_cell_type": "code",
    "deepnote_to_be_reexecuted": false,
    "executionInfo": {
     "elapsed": 36,
     "status": "ok",
     "timestamp": 1623947222811,
     "user": {
      "displayName": "Sean Courtney",
      "photoUrl": "",
      "userId": "17219612104113445790"
     },
     "user_tz": -60
    },
    "execution_millis": 24,
    "execution_start": 1624620213088,
    "id": "lPZoPF5JDt2O",
    "outputId": "610b5277-40ae-4ec7-fa41-1e4713d0b428",
    "source_hash": "423b15a9"
   },
   "outputs": [],
   "source": []
  },
  {
   "cell_type": "markdown",
   "metadata": {
    "cell_id": "00026-973403b9-8394-4994-8e91-2bcf2b4705ec",
    "deepnote_cell_type": "markdown",
    "id": "j0xqWTfLEEBX"
   },
   "source": [
    "Now cast back into a list."
   ]
  },
  {
   "cell_type": "code",
   "execution_count": null,
   "metadata": {
    "cell_id": "00027-b6c56094-9036-4f12-8ba8-b2f20d043ec8",
    "colab": {
     "base_uri": "https://localhost:8080/"
    },
    "deepnote_cell_type": "code",
    "deepnote_to_be_reexecuted": false,
    "executionInfo": {
     "elapsed": 35,
     "status": "ok",
     "timestamp": 1623947222812,
     "user": {
      "displayName": "Sean Courtney",
      "photoUrl": "",
      "userId": "17219612104113445790"
     },
     "user_tz": -60
    },
    "execution_millis": 14,
    "execution_start": 1624620213101,
    "id": "_GIYBfoJEDIu",
    "outputId": "bba5f854-f88d-47c3-9aea-fc2c935ae73a",
    "source_hash": "c55582c5"
   },
   "outputs": [],
   "source": []
  },
  {
   "cell_type": "markdown",
   "metadata": {
    "cell_id": "00028-0c4c35e4-4bfa-48c4-b392-9d5b6280fc70",
    "deepnote_cell_type": "markdown",
    "id": "Ei7C6NgxE2tE"
   },
   "source": [
    "Sort the list."
   ]
  },
  {
   "cell_type": "code",
   "execution_count": null,
   "metadata": {
    "cell_id": "00029-3810b44a-78f8-4422-adf1-c5e55751d304",
    "colab": {
     "base_uri": "https://localhost:8080/"
    },
    "deepnote_cell_type": "code",
    "deepnote_to_be_reexecuted": false,
    "executionInfo": {
     "elapsed": 33,
     "status": "ok",
     "timestamp": 1623947222812,
     "user": {
      "displayName": "Sean Courtney",
      "photoUrl": "",
      "userId": "17219612104113445790"
     },
     "user_tz": -60
    },
    "execution_millis": 0,
    "execution_start": 1624620213132,
    "id": "FxhPiXuAEvhJ",
    "outputId": "1a45d882-4d08-48df-c3e8-e4ef94306c29",
    "source_hash": "e70aada4"
   },
   "outputs": [],
   "source": []
  },
  {
   "cell_type": "markdown",
   "metadata": {
    "cell_id": "00030-8e51d124-7e9a-4256-938f-c0f5951273f9",
    "deepnote_cell_type": "markdown",
    "id": "og6k7lZfFIk4"
   },
   "source": [
    "This is however in the reverse order to what we want so reverse it."
   ]
  },
  {
   "cell_type": "code",
   "execution_count": null,
   "metadata": {
    "cell_id": "00031-155d490a-85af-440e-96bf-acfa570cb77f",
    "colab": {
     "base_uri": "https://localhost:8080/"
    },
    "deepnote_cell_type": "code",
    "deepnote_to_be_reexecuted": false,
    "executionInfo": {
     "elapsed": 32,
     "status": "ok",
     "timestamp": 1623947222813,
     "user": {
      "displayName": "Sean Courtney",
      "photoUrl": "",
      "userId": "17219612104113445790"
     },
     "user_tz": -60
    },
    "execution_millis": 3,
    "execution_start": 1624620213133,
    "id": "dfMIznH-FEBh",
    "outputId": "18a76d48-fb7b-4af6-c3e8-81efc6e25d58",
    "source_hash": "156a1dbf"
   },
   "outputs": [],
   "source": []
  },
  {
   "cell_type": "markdown",
   "metadata": {
    "cell_id": "00032-7e61f9f0-c5f5-4993-8c8b-4c4a84efd49c",
    "deepnote_cell_type": "markdown",
    "id": "5KRimCg-4sku"
   },
   "source": [
    "Now calculate the first two wavelengths (i=3,4 f=2) of photons emitted in the visible Balmer series of transitions.\n",
    "\n",
    "$$ \\lambda = hc/E_\\gamma$$\n",
    "\n",
    "where\n",
    "\n",
    "$$E_\\gamma = E_i - E_f $$\n",
    "\n",
    "the final energy state for the Balmer series is $$ f=2 $$\n",
    "<img src=\"images/Energy_Levels_Transitions.png\" alt=\"two dice\" width=\"500\"/>"
   ]
  },
  {
   "cell_type": "code",
   "execution_count": null,
   "metadata": {
    "cell_id": "00033-ccf10dd2-b355-4716-b322-3ebc068f3292",
    "deepnote_cell_type": "code",
    "deepnote_to_be_reexecuted": false,
    "execution_millis": 21,
    "execution_start": 1624620213134,
    "id": "p2t2eqh94wNv",
    "source_hash": "8facb0bf"
   },
   "outputs": [],
   "source": []
  },
  {
   "cell_type": "markdown",
   "metadata": {
    "cell_id": "00034-56d37a8b-09bb-4c47-98f0-94a966504084",
    "deepnote_cell_type": "markdown",
    "id": "lRJ1ZHKzPrWe"
   },
   "source": [
    "We are in eV, to convert back to S.I, divide the wavelengths by $e$ and print."
   ]
  },
  {
   "cell_type": "code",
   "execution_count": null,
   "metadata": {
    "cell_id": "00035-6441b988-620e-48c4-a10d-45e78dbe9e85",
    "colab": {
     "base_uri": "https://localhost:8080/"
    },
    "deepnote_cell_type": "code",
    "deepnote_to_be_reexecuted": false,
    "executionInfo": {
     "elapsed": 30,
     "status": "ok",
     "timestamp": 1623947222813,
     "user": {
      "displayName": "Sean Courtney",
      "photoUrl": "",
      "userId": "17219612104113445790"
     },
     "user_tz": -60
    },
    "execution_millis": 0,
    "execution_start": 1624620213135,
    "id": "mb4_edKrPpn7",
    "outputId": "2235baf6-07fa-423f-974e-5587080ded21",
    "source_hash": "e037e2da"
   },
   "outputs": [],
   "source": []
  },
  {
   "cell_type": "markdown",
   "metadata": {
    "cell_id": "00036-e4111188-eabb-4fdb-a400-d556b14485f4",
    "deepnote_cell_type": "markdown",
    "id": "aOOniBHH40t1"
   },
   "source": [
    "## Exercise 2: Quantum Qubit Gates & Nested Lists\n",
    "\n",
    "It turns out we can contain lists within lists i.e. [4.0,[1,5]]. Using nested lists for each row, represent the following single quibit gates X,Y, and Z and print them.\n",
    "\n",
    "$$ X = \\begin{pmatrix}\n",
    "0 & 1 \\\\ 1&0\n",
    "\\end{pmatrix}, \\ \\ \\ \n",
    "Y = \\begin{pmatrix}\n",
    "0 & -i \\\\ i&0\n",
    "\\end{pmatrix}, \\ \\ \\ \n",
    "Z = \\begin{pmatrix}\n",
    "1 & 0 \\\\ 0&-1\n",
    "\\end{pmatrix}.$$"
   ]
  },
  {
   "cell_type": "code",
   "execution_count": null,
   "metadata": {
    "cell_id": "00037-56c71b71-411a-425c-ba38-ebea146f50b6",
    "colab": {
     "base_uri": "https://localhost:8080/"
    },
    "deepnote_cell_type": "code",
    "deepnote_to_be_reexecuted": false,
    "executionInfo": {
     "elapsed": 30,
     "status": "ok",
     "timestamp": 1623947222814,
     "user": {
      "displayName": "Sean Courtney",
      "photoUrl": "",
      "userId": "17219612104113445790"
     },
     "user_tz": -60
    },
    "execution_millis": 16,
    "execution_start": 1624620213140,
    "id": "DvzgvHh045lx",
    "outputId": "bb77d903-9205-4849-8c12-4708e3369878",
    "source_hash": "4be84179"
   },
   "outputs": [],
   "source": []
  },
  {
   "cell_type": "markdown",
   "metadata": {
    "cell_id": "00038-b6e0680a-49ba-488f-8981-f01d68cfb1e5",
    "deepnote_cell_type": "markdown",
    "id": "1op_R33R49Ut"
   },
   "source": [
    "Now, extract and print the element from the first row and second column of the Y gate."
   ]
  },
  {
   "cell_type": "code",
   "execution_count": null,
   "metadata": {
    "cell_id": "00039-fcb22cd8-c5c6-4ba7-ade5-54041af56c33",
    "colab": {
     "base_uri": "https://localhost:8080/"
    },
    "deepnote_cell_type": "code",
    "deepnote_to_be_reexecuted": false,
    "executionInfo": {
     "elapsed": 28,
     "status": "ok",
     "timestamp": 1623947222814,
     "user": {
      "displayName": "Sean Courtney",
      "photoUrl": "",
      "userId": "17219612104113445790"
     },
     "user_tz": -60
    },
    "execution_millis": 53,
    "execution_start": 1624620213148,
    "id": "cVS8pJfG5AKZ",
    "outputId": "2dfa884f-6236-493a-d71a-cebff9413fcd",
    "source_hash": "c5dcfb05"
   },
   "outputs": [],
   "source": []
  },
  {
   "cell_type": "markdown",
   "metadata": {
    "cell_id": "00040-df80b36c-46da-4402-8609-eefb9c2a66f3",
    "deepnote_cell_type": "markdown",
    "id": "p2xOQNXzCV9l"
   },
   "source": [
    "Now attempt to multiply two of the matrices"
   ]
  },
  {
   "cell_type": "code",
   "execution_count": null,
   "metadata": {
    "cell_id": "00041-314bbaa0-08a9-4246-92a1-b4ba63f6bb41",
    "colab": {
     "base_uri": "https://localhost:8080/",
     "height": 181
    },
    "deepnote_cell_type": "code",
    "deepnote_to_be_reexecuted": false,
    "executionInfo": {
     "elapsed": 27,
     "status": "error",
     "timestamp": 1623947222815,
     "user": {
      "displayName": "Sean Courtney",
      "photoUrl": "",
      "userId": "17219612104113445790"
     },
     "user_tz": -60
    },
    "execution_millis": 51,
    "execution_start": 1624620213195,
    "id": "aWXBTkVGCbdP",
    "outputId": "b792d077-e1cf-4872-8292-7d277669a325",
    "source_hash": "ca4dddb0"
   },
   "outputs": [],
   "source": []
  },
  {
   "cell_type": "markdown",
   "metadata": {
    "cell_id": "00042-381684ab-4034-42dd-830e-0db420d5d39d",
    "deepnote_cell_type": "markdown",
    "id": "LZIBZbAKCkdH"
   },
   "source": [
    "As we can see, lists(on their own atleast) cannot be used in basic matrix operations. We will see how we can handle this matrix multiplication in the coming weeks."
   ]
  },
  {
   "cell_type": "markdown",
   "id": "2578bceb",
   "metadata": {
    "cell_id": "00000-56d0e291-a975-4ad0-8d15-fb1bf815a2ad",
    "deepnote_cell_type": "markdown",
    "id": "d21f615b"
   },
   "source": [
    "<center>\n",
    "\n",
    "# Python Crash Course\n",
    "# 2: Exercises\n",
    "\n",
    "</center>"
   ]
  },
  {
   "cell_type": "markdown",
   "id": "fd9682be",
   "metadata": {
    "cell_id": "00001-147623df-3301-498c-b799-44c075d459d5",
    "deepnote_cell_type": "markdown",
    "id": "NpAZcOPTjIJw"
   },
   "source": [
    "## Exercise 1: Decimal to/from Binary\n",
    "Write a cell that converts a decimal integer to a binary string, using a while loop and not just recasting.\n",
    "\n",
    "<img src=\"images/binary.png\" alt=\"two dice\" width=\"400\"/>"
   ]
  },
  {
   "cell_type": "code",
   "execution_count": null,
   "id": "47c5170e",
   "metadata": {
    "cell_id": "00002-e95b14e9-5d10-4f55-bd7d-56f1261721c5",
    "colab": {
     "base_uri": "https://localhost:8080/"
    },
    "deepnote_cell_type": "code",
    "deepnote_to_be_reexecuted": false,
    "executionInfo": {
     "elapsed": 5,
     "status": "ok",
     "timestamp": 1624455609657,
     "user": {
      "displayName": "Sean Courtney",
      "photoUrl": "",
      "userId": "17219612104113445790"
     },
     "user_tz": -60
    },
    "execution_millis": 40,
    "execution_start": 1624616983705,
    "id": "lLK-5PWPibCr",
    "outputId": "83fe4a6b-f8e6-4a40-b7fd-44a70631dc8d",
    "source_hash": "53a0fd1e"
   },
   "outputs": [],
   "source": [
    "decimal = 745\n",
    "\n",
    "binary = ''\n",
    "\n",
    "\n",
    "\n",
    "\n",
    "print(binary)"
   ]
  },
  {
   "cell_type": "markdown",
   "id": "b7c602dc",
   "metadata": {
    "cell_id": "00003-38593e07-a43b-4555-8f37-fe8b8cceda15",
    "deepnote_cell_type": "markdown",
    "id": "OkjwC3Xm_M_3"
   },
   "source": [
    "Write a cell that converts binary string to a decimal integer, using a for loop and not just recasting. Make sure that you are reading the binary in the right direction... (*Hint: you can loop through the characters in a string but remeber to cast to an* `int` *to do do calculations but make sure that you are reading the binary in the right direction...*)"
   ]
  },
  {
   "cell_type": "code",
   "execution_count": null,
   "id": "bdb81e2a",
   "metadata": {
    "cell_id": "00004-2debcbdc-e385-4c7b-85dd-1049c05d3e01",
    "colab": {
     "base_uri": "https://localhost:8080/"
    },
    "deepnote_cell_type": "code",
    "deepnote_to_be_reexecuted": false,
    "executionInfo": {
     "elapsed": 182,
     "status": "ok",
     "timestamp": 1624455564059,
     "user": {
      "displayName": "Sean Courtney",
      "photoUrl": "",
      "userId": "17219612104113445790"
     },
     "user_tz": -60
    },
    "execution_millis": 20,
    "execution_start": 1624616983756,
    "id": "Q9qkyHpU_eE3",
    "outputId": "70713f20-7f0c-4e9b-9644-7a26704aafd1",
    "source_hash": "fe561d88"
   },
   "outputs": [],
   "source": [
    "binary = '10111001'\n",
    "\n",
    "decimal = 0\n",
    "\n",
    "\n",
    "\n",
    "\n",
    "print(decimal)"
   ]
  },
  {
   "cell_type": "markdown",
   "id": "6c52eb2c",
   "metadata": {
    "cell_id": "00005-6bb73fb0-1124-403d-a2ab-e655ceeda0e5",
    "deepnote_cell_type": "markdown",
    "id": "4yp1sJnVhzpN"
   },
   "source": [
    "## Exercise 2: Balmer Lines\n",
    "\n",
    "As seen in the last excercise the energy levels of a hydrogen atom are the following\n",
    "$$ E_n = - \\frac{e^2}{8 \\pi \\varepsilon_0 a_0 n^2} \\approx \\frac{-13.6\\text{eV}}{n^2} .$$\n",
    "\n",
    "Make an empty list and append the values of the first ten energies using a for-loop."
   ]
  },
  {
   "cell_type": "code",
   "execution_count": null,
   "id": "7f1d99a5",
   "metadata": {
    "cell_id": "00006-53187978-8693-4328-98a1-b1c2b0e959ec",
    "colab": {
     "base_uri": "https://localhost:8080/"
    },
    "deepnote_cell_type": "code",
    "deepnote_to_be_reexecuted": false,
    "executionInfo": {
     "elapsed": 193,
     "status": "ok",
     "timestamp": 1624458600445,
     "user": {
      "displayName": "Sean Courtney",
      "photoUrl": "",
      "userId": "17219612104113445790"
     },
     "user_tz": -60
    },
    "execution_millis": 24,
    "execution_start": 1624616983780,
    "id": "roK3FYmO6lQL",
    "outputId": "09e2f095-04f2-46cd-c238-c1d4b287f0b2",
    "source_hash": "737b58e4"
   },
   "outputs": [],
   "source": [
    "E_levels = []\n",
    "\n",
    "\n",
    "\n",
    "print(E_levels)"
   ]
  },
  {
   "cell_type": "markdown",
   "id": "05c8c1f7",
   "metadata": {
    "cell_id": "00007-fe61282e-d30b-4b61-8774-738fc2276abf",
    "deepnote_cell_type": "markdown",
    "id": "Dh5KWNPsDmqj"
   },
   "source": [
    "Now do this with list comprehension."
   ]
  },
  {
   "cell_type": "code",
   "execution_count": null,
   "id": "78cceec4",
   "metadata": {
    "cell_id": "00008-85118e6b-da3d-4fee-81f4-799657080f07",
    "colab": {
     "base_uri": "https://localhost:8080/"
    },
    "deepnote_cell_type": "code",
    "deepnote_to_be_reexecuted": false,
    "executionInfo": {
     "elapsed": 315,
     "status": "ok",
     "timestamp": 1624458602872,
     "user": {
      "displayName": "Sean Courtney",
      "photoUrl": "",
      "userId": "17219612104113445790"
     },
     "user_tz": -60
    },
    "execution_millis": 0,
    "execution_start": 1624616983844,
    "id": "gNNxlJWzCVCy",
    "outputId": "35c321b2-bf01-4e1c-e7ef-0c8839712758",
    "source_hash": "5e56110f"
   },
   "outputs": [],
   "source": [
    "E_levels = \n",
    "\n",
    "print(E_levels)"
   ]
  },
  {
   "cell_type": "markdown",
   "id": "6d673f60",
   "metadata": {
    "cell_id": "00009-af84f275-3974-45b1-9cd0-94e7883d0b76",
    "deepnote_cell_type": "markdown",
    "id": "A2QZWkz5dmMt"
   },
   "source": [
    "Now make a list of the first eight Balmer lines \n",
    "\n",
    "$$ \\lambda = \\frac{1242}{\\text{Energy of Photon in eV}} nm$$"
   ]
  },
  {
   "cell_type": "code",
   "execution_count": null,
   "id": "a466f7ba",
   "metadata": {
    "cell_id": "00010-8b81eed9-051a-4875-9748-3a2c78ac6eb8",
    "colab": {
     "base_uri": "https://localhost:8080/"
    },
    "deepnote_cell_type": "code",
    "deepnote_to_be_reexecuted": false,
    "executionInfo": {
     "elapsed": 285,
     "status": "ok",
     "timestamp": 1624459498479,
     "user": {
      "displayName": "Sean Courtney",
      "photoUrl": "",
      "userId": "17219612104113445790"
     },
     "user_tz": -60
    },
    "execution_start": 1624616983888,
    "id": "B0TXmqahR9OQ",
    "outputId": "9958d4f9-0efe-477f-a70e-547b1a4bba3c",
    "source_hash": "887718e"
   },
   "outputs": [],
   "source": [
    "Balmer = \n",
    "\n",
    "print(Balmer)"
   ]
  },
  {
   "cell_type": "markdown",
   "id": "acf6872d",
   "metadata": {
    "cell_id": "00011-2635667d-a067-440f-81fe-a1ab49bf4616",
    "deepnote_cell_type": "markdown",
    "id": "aOOniBHH40t1"
   },
   "source": [
    "## Exercise 3: Quantum Qubit Gates\n",
    "It turns out we can contain lists within lists i.e. $[4.0,[1,5]]$. Using nested lists for each row, represent the following single qubit gates X,Y, and Z and print them.\n",
    "\n",
    "$$ X = \\begin{pmatrix}\n",
    "0 & 1 \\\\ 1&0\n",
    "\\end{pmatrix}, \\ \\ \\ \n",
    "Y = \\begin{pmatrix}\n",
    "0 & -i \\\\ i&0\n",
    "\\end{pmatrix}, \\ \\ \\ \n",
    "Z = \\begin{pmatrix}\n",
    "1 & 0 \\\\ 0&-1\n",
    "\\end{pmatrix}$$\n"
   ]
  },
  {
   "cell_type": "code",
   "execution_count": null,
   "id": "c4e70dbc",
   "metadata": {
    "cell_id": "00012-2137300a-a551-4547-8d81-70a97fbd9efd",
    "colab": {
     "base_uri": "https://localhost:8080/"
    },
    "deepnote_cell_type": "code",
    "deepnote_to_be_reexecuted": false,
    "executionInfo": {
     "elapsed": 15,
     "status": "ok",
     "timestamp": 1623937069417,
     "user": {
      "displayName": "Sean Courtney",
      "photoUrl": "",
      "userId": "17219612104113445790"
     },
     "user_tz": -60
    },
    "execution_millis": 6,
    "execution_start": 1624888714484,
    "id": "DvzgvHh045lx",
    "outputId": "6bb0bdc0-b519-4fdc-aea4-711609d4eff4",
    "source_hash": "d1f52fd6"
   },
   "outputs": [],
   "source": [
    "X = \n",
    "Y = \n",
    "Z = \n",
    "\n",
    "print(\"X = \", X)\n",
    "print(\"Y = \", Y)\n",
    "print(\"Z = \", Z)"
   ]
  },
  {
   "cell_type": "markdown",
   "id": "2d72e2f9",
   "metadata": {
    "cell_id": "00013-9b8b2073-dcd6-4501-87fe-4d2e7166c665",
    "deepnote_cell_type": "markdown",
    "id": "J4CspFJObThz"
   },
   "source": [
    "There is also the Hadamard gate.\n",
    "$$ H = \\begin{pmatrix}\n",
    "1/\\sqrt{2} & 1/\\sqrt{2} \\\\ 1/\\sqrt{2} & -1/\\sqrt{2}\n",
    "\\end{pmatrix}$$"
   ]
  },
  {
   "cell_type": "code",
   "execution_count": null,
   "id": "80d4e672",
   "metadata": {
    "cell_id": "00014-6d57e764-b346-4f50-bc0f-c22a9029b109",
    "colab": {
     "base_uri": "https://localhost:8080/"
    },
    "deepnote_cell_type": "code",
    "deepnote_to_be_reexecuted": false,
    "executionInfo": {
     "elapsed": 12,
     "status": "ok",
     "timestamp": 1623937069417,
     "user": {
      "displayName": "Sean Courtney",
      "photoUrl": "",
      "userId": "17219612104113445790"
     },
     "user_tz": -60
    },
    "execution_start": 1624616983931,
    "id": "EFgHWNBXbVNR",
    "outputId": "c479a147-a981-416d-cf94-854416e86295",
    "source_hash": "1fca7208"
   },
   "outputs": [],
   "source": [
    "H = \n",
    "print(H)"
   ]
  },
  {
   "cell_type": "markdown",
   "id": "a4912f9a",
   "metadata": {
    "cell_id": "00015-45011954-9035-4683-8f23-bc65aa44acc6",
    "deepnote_cell_type": "markdown",
    "id": "3-Ods5mQ6N03"
   },
   "source": [
    "It is more useful if every element is a complex type so cast all matrices into complex matrices."
   ]
  },
  {
   "cell_type": "code",
   "execution_count": null,
   "id": "05ce299c",
   "metadata": {
    "cell_id": "00016-4d198b6e-7f8f-4fa7-8238-772a110635c3",
    "colab": {
     "base_uri": "https://localhost:8080/"
    },
    "deepnote_cell_type": "code",
    "deepnote_to_be_reexecuted": false,
    "executionInfo": {
     "elapsed": 10,
     "status": "ok",
     "timestamp": 1623937069418,
     "user": {
      "displayName": "Sean Courtney",
      "photoUrl": "",
      "userId": "17219612104113445790"
     },
     "user_tz": -60
    },
    "execution_start": 1624616983932,
    "id": "RRgzZv0M6NIi",
    "outputId": "9bb54d71-9bd3-49eb-a5ac-18aa25a5d892",
    "source_hash": "d922a3ae"
   },
   "outputs": [],
   "source": [
    "\n",
    "\n",
    "\n",
    "print(\"X = \", X)\n",
    "print(\"Y = \", Y)\n",
    "print(\"Z = \", Z)\n",
    "print(\"H = \", H)"
   ]
  },
  {
   "cell_type": "markdown",
   "id": "77c0814e",
   "metadata": {
    "cell_id": "00017-4db5f922-9ade-4632-9071-d386ab5dcc05",
    "deepnote_cell_type": "markdown",
    "id": "UjTfRuMb0APs"
   },
   "source": [
    "Make a copy of the $Y$ matrix. Start with a $2 \\times 2$ matrix of all $0$s."
   ]
  },
  {
   "cell_type": "code",
   "execution_count": null,
   "id": "53ce0d69",
   "metadata": {
    "cell_id": "00018-b611e0e0-90d6-4e5c-a7dc-aa64822c361e",
    "colab": {
     "base_uri": "https://localhost:8080/"
    },
    "deepnote_cell_type": "code",
    "deepnote_to_be_reexecuted": false,
    "executionInfo": {
     "elapsed": 8,
     "status": "ok",
     "timestamp": 1623937069418,
     "user": {
      "displayName": "Sean Courtney",
      "photoUrl": "",
      "userId": "17219612104113445790"
     },
     "user_tz": -60
    },
    "execution_start": 1624616983957,
    "id": "kUC6ft7Pz_hh",
    "outputId": "8c7d0c86-ee19-4e8b-f41f-a11e67e92bda",
    "source_hash": "77cae2f0"
   },
   "outputs": [],
   "source": [
    "Y_copy = [[0,0],[0,0]]\n",
    "\n"
   ]
  },
  {
   "cell_type": "markdown",
   "id": "0ed67185",
   "metadata": {
    "cell_id": "00019-1e4d52a4-c37a-44f2-b9bc-2e5ca4eb60c6",
    "deepnote_cell_type": "markdown",
    "id": "xki4hT-S1hHX"
   },
   "source": [
    "Create a smiliar cell that makes a transpose of $Y$, $Y^T$."
   ]
  },
  {
   "cell_type": "code",
   "execution_count": null,
   "id": "611740a4",
   "metadata": {
    "cell_id": "00020-4915fbfd-4b22-4538-99ae-558a348dd76b",
    "colab": {
     "base_uri": "https://localhost:8080/"
    },
    "deepnote_cell_type": "code",
    "deepnote_to_be_reexecuted": false,
    "executionInfo": {
     "elapsed": 21,
     "status": "ok",
     "timestamp": 1623937070025,
     "user": {
      "displayName": "Sean Courtney",
      "photoUrl": "",
      "userId": "17219612104113445790"
     },
     "user_tz": -60
    },
    "execution_start": 1624616984025,
    "id": "fjlCVM3A1kli",
    "outputId": "201bc32e-6aec-40f6-b4a6-148a0b120770",
    "source_hash": "760b2ae6"
   },
   "outputs": [],
   "source": [
    "Y_trans = [[0,0],[0,0]]\n",
    "\n"
   ]
  },
  {
   "cell_type": "markdown",
   "id": "6e80408f",
   "metadata": {
    "cell_id": "00021-1361c213-a980-4699-8d90-69eb317a2ae3",
    "deepnote_cell_type": "markdown",
    "id": "gpqAhAEb2j2f"
   },
   "source": [
    "Now take a Hermitian adjoint and check if $Y$ is Hermitian."
   ]
  },
  {
   "cell_type": "code",
   "execution_count": null,
   "id": "dcd9331c",
   "metadata": {
    "cell_id": "00022-79d252ec-35a0-4161-ab64-e7e908995a02",
    "colab": {
     "base_uri": "https://localhost:8080/"
    },
    "deepnote_cell_type": "code",
    "deepnote_to_be_reexecuted": false,
    "executionInfo": {
     "elapsed": 19,
     "status": "ok",
     "timestamp": 1623937070026,
     "user": {
      "displayName": "Sean Courtney",
      "photoUrl": "",
      "userId": "17219612104113445790"
     },
     "user_tz": -60
    },
    "execution_start": 1624616984026,
    "id": "c352p02N12Cr",
    "outputId": "00e85d49-706d-43de-cbf2-c50aef7a10a3",
    "source_hash": "fb0286bb"
   },
   "outputs": [],
   "source": [
    "Y_dag = [[0,0],[0,0]]\n"
   ]
  },
  {
   "cell_type": "markdown",
   "id": "ddff526c",
   "metadata": {
    "cell_id": "00023-360f76d8-78c0-4d4a-b8c8-948a4f8067f0",
    "deepnote_cell_type": "markdown",
    "id": "hkgRL5A5AkuW"
   },
   "source": [
    "Now multiply $X$ and $H$ to get $XH$. \n"
   ]
  },
  {
   "cell_type": "code",
   "execution_count": null,
   "id": "dc224793",
   "metadata": {
    "cell_id": "00024-7cb9a84c-99af-4ce9-9137-f2e600bff86a",
    "colab": {
     "base_uri": "https://localhost:8080/"
    },
    "deepnote_cell_type": "code",
    "deepnote_to_be_reexecuted": false,
    "executionInfo": {
     "elapsed": 18,
     "status": "ok",
     "timestamp": 1623937070027,
     "user": {
      "displayName": "Sean Courtney",
      "photoUrl": "",
      "userId": "17219612104113445790"
     },
     "user_tz": -60
    },
    "execution_start": 1624616984033,
    "id": "Z_SdOUJu4WbV",
    "outputId": "e659c339-9ca9-4a52-ea02-233818978d28",
    "source_hash": "82fd7b73"
   },
   "outputs": [],
   "source": [
    "XH = [[0,0],[0,0]]\n",
    "\n"
   ]
  },
  {
   "cell_type": "markdown",
   "id": "4e8d60e6",
   "metadata": {
    "cell_id": "00025-d29d3114-9d71-4925-9c44-3f57a71fad26",
    "deepnote_cell_type": "markdown",
    "id": "fqF6uIUuCutG"
   },
   "source": [
    "Now multiply $XH$ and $H$ to get $HXH$. "
   ]
  },
  {
   "cell_type": "code",
   "execution_count": null,
   "id": "91a391a1",
   "metadata": {
    "cell_id": "00026-2333b99b-9663-4591-a62f-e0cda8e47ce6",
    "colab": {
     "base_uri": "https://localhost:8080/"
    },
    "deepnote_cell_type": "code",
    "deepnote_to_be_reexecuted": false,
    "executionInfo": {
     "elapsed": 12,
     "status": "ok",
     "timestamp": 1623937070028,
     "user": {
      "displayName": "Sean Courtney",
      "photoUrl": "",
      "userId": "17219612104113445790"
     },
     "user_tz": -60
    },
    "execution_start": 1624616984033,
    "id": "c7orX2ThCdvV",
    "outputId": "ebc5b253-588f-4d95-ff2a-3e432ab26a36",
    "source_hash": "d03daf2d"
   },
   "outputs": [],
   "source": [
    "HXH = [[0,0],[0,0]]\n",
    "\n",
    "print(HXH)"
   ]
  },
  {
   "cell_type": "markdown",
   "id": "b1949299",
   "metadata": {
    "cell_id": "00027-9083c82a-dc41-428a-8a6d-20039d6763e8",
    "deepnote_cell_type": "markdown",
    "id": "WU_23_gCE9VW"
   },
   "source": [
    "We have verified the well known identity $$HXH = Z.$$"
   ]
  },
  {
   "cell_type": "markdown",
   "id": "c69a7836",
   "metadata": {
    "cell_id": "00031-2471cd0f-83ba-4003-8d6e-5ccd6e957118",
    "deepnote_cell_type": "markdown",
    "id": "727758c1"
   },
   "source": [
    "## Exercise 4: How many days left do you have to live?\n",
    "By inputting the current date dd/mm/yyyy and your birthday dd/mm/yyyy. Calculate how many days you have lived.\n",
    "<img src=\"images/stopwatch.jpg\" alt=\"two dice\" width=\"300\"/>"
   ]
  },
  {
   "cell_type": "code",
   "execution_count": null,
   "id": "b4c41e1a",
   "metadata": {
    "cell_id": "00032-2a986a71-a4fe-461e-991a-afbe0464d65c",
    "deepnote_cell_type": "code",
    "deepnote_to_be_reexecuted": true,
    "id": "68096c60",
    "source_hash": "a52372f4"
   },
   "outputs": [],
   "source": [
    "current_date = input(\"Enter the current date dd/mm/yyyy: \" )\n",
    "birth_date = input(\"Enter your birth date dd/mm/yyyy: \")"
   ]
  },
  {
   "cell_type": "markdown",
   "id": "c77fd805",
   "metadata": {
    "cell_id": "00033-d81f2c6e-a6f0-4b75-93d9-7087b2eb6e18",
    "deepnote_cell_type": "markdown",
    "id": "2264220b"
   },
   "source": [
    "Lets extract the current day, month and year aswell as the birth day, month and year from these inputs."
   ]
  },
  {
   "cell_type": "code",
   "execution_count": null,
   "id": "42de6ccc",
   "metadata": {
    "cell_id": "00034-6fa727e9-8397-43b1-9c86-ae1c6ceead69",
    "deepnote_cell_type": "code",
    "deepnote_to_be_reexecuted": true,
    "id": "3bbe056e",
    "source_hash": "cc72ab3b"
   },
   "outputs": [],
   "source": [
    "current_day = \n",
    "current_month = \n",
    "current_year = \n",
    "\n",
    "birth_day = \n",
    "birth_month = \n",
    "birth_year = "
   ]
  },
  {
   "cell_type": "markdown",
   "id": "384785c2",
   "metadata": {
    "cell_id": "00035-80f943c9-417c-435b-923a-89619beda38a",
    "deepnote_cell_type": "markdown",
    "id": "4cc6c62c"
   },
   "source": [
    "When counting the days lived, we need to take into account leap days and days in the months of the year. Lets make two list with the number of days in each month for a regular year, and then a leap year."
   ]
  },
  {
   "cell_type": "code",
   "execution_count": null,
   "id": "0f41f548",
   "metadata": {
    "cell_id": "00036-f086a93f-1a75-411d-b1ea-269e5d66f2d9",
    "deepnote_cell_type": "code",
    "deepnote_to_be_reexecuted": true,
    "id": "a80c0c52",
    "source_hash": "4f29663a"
   },
   "outputs": [],
   "source": [
    "Months = [31,28,31,30,31,30,31,31,30,31,30,31]\n",
    "Leap_Months = [31,29,31,30,31,30,31,31,30,31,30,31]"
   ]
  },
  {
   "cell_type": "markdown",
   "id": "1464017a",
   "metadata": {
    "cell_id": "00037-6ebdd4bf-0d88-48d1-9035-5c4c00ca9a1d",
    "deepnote_cell_type": "markdown",
    "id": "a8535db3"
   },
   "source": [
    "Calculate whether or not your birth year and the current year are leap years. Assign your answers in boolean form to the variables given below."
   ]
  },
  {
   "cell_type": "code",
   "execution_count": null,
   "id": "9ca332c1",
   "metadata": {
    "cell_id": "00038-aee3e9af-e805-4e07-9787-261e740ad5ba",
    "deepnote_cell_type": "code",
    "deepnote_to_be_reexecuted": true,
    "id": "9958bbe5",
    "source_hash": "bf2aaaeb"
   },
   "outputs": [],
   "source": [
    "current_year_leap = True\n",
    "birth_year_leap = True\n",
    "        \n"
   ]
  },
  {
   "cell_type": "markdown",
   "id": "fee47771",
   "metadata": {
    "cell_id": "00039-57274ee0-b140-4733-b4c3-bc36d444866a",
    "deepnote_cell_type": "markdown",
    "id": "c43a8c73"
   },
   "source": [
    "Using the month lists above, calculate how many days you lived in your birth year. Print the answer. This will depend on the boolean value found above."
   ]
  },
  {
   "cell_type": "code",
   "execution_count": null,
   "id": "81ace04d",
   "metadata": {
    "cell_id": "00040-34e29288-5496-46e2-beff-2273d20f26cc",
    "deepnote_cell_type": "code",
    "deepnote_to_be_reexecuted": true,
    "id": "0805f040",
    "source_hash": "804f778e"
   },
   "outputs": [],
   "source": [
    "birth_year_days = 0\n",
    "\n",
    "\n",
    "print(\"birth year days = \",birth_year_days)        "
   ]
  },
  {
   "cell_type": "markdown",
   "id": "51b4bcec",
   "metadata": {
    "cell_id": "00041-673279e1-0def-47fc-bcc3-5ba2bd4267a3",
    "deepnote_cell_type": "markdown",
    "id": "bd20f32c"
   },
   "source": [
    "Using the month lists above, calculate how many days you lived in the current year. Print the answer. This will depend on the boolean value found above."
   ]
  },
  {
   "cell_type": "code",
   "execution_count": null,
   "id": "7013af52",
   "metadata": {
    "cell_id": "00042-d54521a5-f764-4796-916a-f65d94b107a2",
    "deepnote_cell_type": "code",
    "deepnote_to_be_reexecuted": true,
    "id": "1774c5e4",
    "source_hash": "ae74c59c"
   },
   "outputs": [],
   "source": [
    "current_year_days = 0\n",
    "\n",
    "\n",
    "print(\"current year days = \",current_year_days)"
   ]
  },
  {
   "cell_type": "markdown",
   "id": "b16095f9",
   "metadata": {
    "cell_id": "00043-339e7482-40ad-49ce-bf56-a9871e67096d",
    "deepnote_cell_type": "markdown",
    "id": "f4092202"
   },
   "source": [
    "Now, using a loop, calculate the number of days in the years between your birth year and the current year. Print the answer. \n",
    "\n",
    "(There are 366 days in a leap year, and 365 in a regular year.)"
   ]
  },
  {
   "cell_type": "code",
   "execution_count": null,
   "id": "e6911be2",
   "metadata": {
    "cell_id": "00044-e5f13ac5-fb3b-4a1c-8f55-c568a5f808fe",
    "deepnote_cell_type": "code",
    "deepnote_to_be_reexecuted": true,
    "id": "df7d1395",
    "source_hash": "55150ead"
   },
   "outputs": [],
   "source": [
    "days_inbetween = 0\n",
    "\n",
    "        \n",
    "print(\"Days inbetween = \",days_inbetween)"
   ]
  },
  {
   "cell_type": "markdown",
   "id": "edb318e3",
   "metadata": {
    "cell_id": "00045-676e6c0c-5e41-4c9e-a66c-a96fcdf9ea59",
    "deepnote_cell_type": "markdown",
    "id": "7a6a06e1"
   },
   "source": [
    "Now sum up your answers to find the total number of days you have lived. Print the answer."
   ]
  },
  {
   "cell_type": "code",
   "execution_count": null,
   "id": "3610f047",
   "metadata": {
    "cell_id": "00046-675a117d-c416-49e9-9726-131da5a21626",
    "deepnote_cell_type": "code",
    "deepnote_to_be_reexecuted": true,
    "id": "61b4f370",
    "source_hash": "c08eda40"
   },
   "outputs": [],
   "source": [
    "days_lived = birth_year_days + days_inbetween + current_year_days\n",
    "print(\"days lived = \",days_lived)"
   ]
  },
  {
   "cell_type": "markdown",
   "id": "2e7d892d",
   "metadata": {
    "cell_id": "00047-0f445472-a13f-476f-8d43-76a5b4500507",
    "deepnote_cell_type": "markdown",
    "id": "27f58a72"
   },
   "source": [
    "The average person in Ireland lives approximately 82 years. Approximate the number of days you have left to live."
   ]
  },
  {
   "cell_type": "code",
   "execution_count": null,
   "id": "333085eb",
   "metadata": {
    "cell_id": "00048-4ffded4a-37ed-496d-88cd-6effcb3c3892",
    "deepnote_cell_type": "code",
    "deepnote_to_be_reexecuted": true,
    "id": "28bd4acd",
    "source_hash": "1b2fbf4b"
   },
   "outputs": [],
   "source": [
    "days_left = \n",
    "\n",
    "print(\"I have approximately {} days left to live\".format(days_left))"
   ]
  },
  {
   "cell_type": "markdown",
   "id": "2894a8ba",
   "metadata": {
    "cell_id": "00049-817fbe72-3ccd-437e-868a-ea403bafed58",
    "deepnote_cell_type": "markdown",
    "id": "2bea5e40"
   },
   "source": [
    "## Exercise 6: Rotating Vectors In 2-Dimensions\n",
    "\n",
    "We can define a vector in two-dimensions with two values \"x\" and \"y\", where the vector points from the origin to the coordinates $$(x,y)$$ and has magnitude given by $$ \\sqrt{x^2 + y^2} $$\n",
    "\n",
    "The vector is written as a 2x1 matrix, as follows:\n",
    "\n",
    "$$ \\begin{pmatrix}\n",
    "x \\\\\n",
    "y\n",
    "\\end{pmatrix}$$\n",
    "\n",
    "We can rotate the vector around the origin by multiplying it by a matrix, namely a rotational matrix, given by:\n",
    "\n",
    "$$ \\begin{pmatrix}\n",
    "\\cos\\theta & -\\sin\\theta \\\\\n",
    "\\sin\\theta & \\cos\\theta\n",
    "\\end{pmatrix}$$\n",
    "\n",
    "If we want to rotate by an angle $ \\theta = \\pi/2 $ then we obtain the rotation matrix:\n",
    "\n",
    "$$ \\begin{pmatrix}\n",
    "0 & -1 \\\\\n",
    "1& 0\n",
    "\\end{pmatrix}$$\n",
    "\n",
    "Find the resulting vector after rotating the vector, with $x=1$ and $y=1$, by $\\pi/2$. Print the answer."
   ]
  },
  {
   "cell_type": "code",
   "execution_count": null,
   "id": "53d5e651",
   "metadata": {
    "cell_id": "00050-a25fd750-46b8-4740-aa10-728766aa5cf9",
    "deepnote_cell_type": "code",
    "deepnote_to_be_reexecuted": true,
    "id": "c20ba821",
    "source_hash": "a7ebf5ed"
   },
   "outputs": [],
   "source": [
    "Vector = [1,1]\n",
    "Rotation = [[0,-1],[1,0]]\n",
    "Result = [0,0]\n",
    "\n",
    "\n",
    "print(Result)"
   ]
  },
  {
   "cell_type": "markdown",
   "id": "657c4d50",
   "metadata": {
    "cell_id": "00051-04bfdf0d-303a-4f00-9e36-6d16b7e42836",
    "deepnote_cell_type": "markdown",
    "id": "a46a95a1"
   },
   "source": [
    "Calculate the magnitude of the initial vector and the resulting vector. Check if they are equal, print a boolean answer."
   ]
  },
  {
   "cell_type": "code",
   "execution_count": null,
   "id": "269739c9",
   "metadata": {
    "cell_id": "00052-17de47d0-60b7-4774-91d5-39610539525a",
    "deepnote_cell_type": "code",
    "deepnote_to_be_reexecuted": true,
    "id": "d3af174d",
    "source_hash": "fcf13380"
   },
   "outputs": [],
   "source": []
  },
  {
   "cell_type": "markdown",
   "id": "47f27135",
   "metadata": {},
   "source": [
    "## Exercise 7: Quantum Qubit State Normalisation\n",
    "\n",
    "Read in the file \"qubits.txt\", each line represents the state of a different qubit in a two-dimesnional basis, so there are two space-seperated integers. For example,\n",
    "\n",
    "$$236 \\text{ }\\text{ } 3284 $$\n",
    "\n",
    "However, these states are not normalised. What is normalisation? In simple mathematical terms, it means the squared-sum of these integers is equal to one. In the above case, this is not true\n",
    "\n",
    "$$236^2 + 3284^2 = 10840352 $$\n",
    "\n",
    "To normalise, we divide each integer, $a$ and $b$, by \n",
    "$$ \\sqrt{a^2 + b^2} $$\n",
    "\n",
    "So in the above case, we change the space-seperated integers to\n",
    "\n",
    "$$\\frac{236}{\\sqrt{10840352}} \\ \\ \\frac{3284}{\\sqrt{10840352}} = 0.072 \\ \\ 0.997 \\text{  (rounding to three decimal places)} $$\n",
    "\n",
    "Now their squared sum is\n",
    "\n",
    "$$\\frac{236^2}{10840352} + \\frac{3284^2}{10840352} = \\frac{10840352}{10840352} = 1$$\n",
    "\n",
    "and we can say they are normalised. \n",
    "\n",
    "Read in the file, and line by line, normalise each qubit state, write the result to the file \"normalised_qubits.txt\" and print the answers on the screen. Round to five decimal places."
   ]
  },
  {
   "cell_type": "code",
   "execution_count": null,
   "id": "a34d3e5f",
   "metadata": {},
   "outputs": [],
   "source": []
  },
  {
   "cell_type": "markdown",
   "metadata": {},
   "source": [
    "<center>\n",
    "    \n",
    "# Python Crash Course\n",
    "# 3: Exercises\n",
    "\n",
    "</center>"
   ]
  },
  {
   "cell_type": "markdown",
   "metadata": {
    "id": "E2gx7ca20yjW"
   },
   "source": [
    "## Exercise 1: Matrix Class\n",
    "\n",
    "Create a square matrix class. Overload the operators `+`, `-`, and `*` so basic matrix operations can be easily performed. Also make use of `__getitem__()` and `__setitem__()` to extract matrix elements and to assign values to matrix elements. Use `__str__()` to print the matrix. Make sure it works for right and left multiplication. Make a transpose and conjugate transpose method as well as one that checks if the matrix is symmetric and hermitian."
   ]
  },
  {
   "cell_type": "code",
   "execution_count": null,
   "metadata": {},
   "outputs": [],
   "source": [
    "class Matrix:\n",
    "    "
   ]
  },
  {
   "cell_type": "markdown",
   "metadata": {
    "id": "ZGb-Yeddrigu"
   },
   "source": [
    "## Exercise 2: Quibit Gates Again!!!\n",
    "\n",
    "To illustrate the usefulness of the class we just created, define gates X,Z and H then show $$ HXH=Z. $$\n",
    "Also fee free to try any other identity you might think of."
   ]
  },
  {
   "cell_type": "code",
   "execution_count": null,
   "metadata": {
    "executionInfo": {
     "elapsed": 303,
     "status": "aborted",
     "timestamp": 1624542140267,
     "user": {
      "displayName": "Conor Dunne",
      "photoUrl": "",
      "userId": "14934053525675490562"
     },
     "user_tz": -60
    },
    "id": "35P53sESrvqj"
   },
   "outputs": [],
   "source": [
    "X = Matrix([[0,1],[1,0]])\n",
    "Z = Matrix([[1,0],[0,-1]])\n",
    "H = (2**(-0.5)) * Matrix([[1,1],[1,-1]])"
   ]
  },
  {
   "cell_type": "markdown",
   "metadata": {
    "id": "kpiNLNyk6DjP"
   },
   "source": [
    "Now check if these gates are Hermitian. Print the answers."
   ]
  },
  {
   "cell_type": "code",
   "execution_count": null,
   "metadata": {
    "executionInfo": {
     "elapsed": 304,
     "status": "aborted",
     "timestamp": 1624542140268,
     "user": {
      "displayName": "Conor Dunne",
      "photoUrl": "",
      "userId": "14934053525675490562"
     },
     "user_tz": -60
    },
    "id": "8ifGTrv-53Hc"
   },
   "outputs": [],
   "source": [
    "print(X.is_hermitian())\n",
    "print(Z.is_hermitian())\n",
    "print(H.is_hermitian())"
   ]
  },
  {
   "cell_type": "markdown",
   "id": "012cc2d4",
   "metadata": {},
   "source": [
    "<center>\n",
    "\n",
    "# Python Crash Course\n",
    "# 4: Exercises\n",
    "\n",
    "</center>"
   ]
  },
  {
   "cell_type": "code",
   "execution_count": null,
   "id": "a00b9203",
   "metadata": {},
   "outputs": [],
   "source": [
    "import numpy as np\n",
    "import numpy.random as rnd"
   ]
  },
  {
   "cell_type": "markdown",
   "id": "b87e1ef0",
   "metadata": {},
   "source": [
    "<center>\n",
    "\n",
    "## Exercise 1: Triggy Problem\n",
    "\n",
    "</center>\n",
    "\n",
    "Create arrays, of $sin(x)$ and $cos(x)$, with 100 elements that ranges between $-\\pi$ and $\\pi$. Round the arrays to three decimal places."
   ]
  },
  {
   "cell_type": "code",
   "execution_count": null,
   "id": "dcf4e3ce",
   "metadata": {},
   "outputs": [],
   "source": []
  },
  {
   "cell_type": "markdown",
   "id": "6c5235e8",
   "metadata": {},
   "source": [
    "Find the mean and variance of the above arrays, round your answer to one decimal place."
   ]
  },
  {
   "cell_type": "code",
   "execution_count": null,
   "id": "ea1ea9e5",
   "metadata": {},
   "outputs": [],
   "source": []
  },
  {
   "cell_type": "markdown",
   "id": "70c6a388",
   "metadata": {},
   "source": [
    "Now generate a new array, that is the squared sum of the two arrays found above. Round the array to two decimal places."
   ]
  },
  {
   "cell_type": "code",
   "execution_count": null,
   "id": "75f71c25",
   "metadata": {},
   "outputs": [],
   "source": []
  },
  {
   "cell_type": "markdown",
   "id": "cf00b68e",
   "metadata": {},
   "source": [
    "Now find the sum of the array, print the shape of the array aswell."
   ]
  },
  {
   "cell_type": "code",
   "execution_count": null,
   "id": "449fdd0a",
   "metadata": {},
   "outputs": [],
   "source": []
  },
  {
   "cell_type": "markdown",
   "id": "35865cd8",
   "metadata": {},
   "source": [
    "<center>\n",
    "\n",
    "## Exercise 2: Quantum State Measurements\n",
    "\n",
    "</center>\n",
    "\n",
    "The probability of finding quantum objects in certain states is given by the square of the coefficient to those states, when written in a normailised form. For example:\n",
    "\n",
    "$$ |{\\psi}> = \\frac{1}{\\sqrt{2}}|{0}> + \\frac{1}{\\sqrt{2}}|{1}>$$\n",
    "\n",
    "The probability that the quantum object being in the state $|{0}>$ is $(\\frac{1}{\\sqrt{2}})^2 = 0.5$. Similary the probability of being in the state $|{1}>$ is also $(\\frac{1}{\\sqrt{2}})^2 = 0.5$. Notice that the sum of these probabilities is $0.5+0.5=1$, which, not only makes probabilistic sense(there is a $100\\%$ chance of being in some state), but also tells us the states are correctly normalised. \n",
    "\n",
    "The file \"normalised_quibits.txt\" contains rows of normalised states of quantum-type objects. We can interpret the first column as the coefficients of $|{0}>$ and the second column as $|{1}>$.\n",
    "\n",
    "Read in the file and calculate the probability that the 4th quibit is in state $|{0}>$."
   ]
  },
  {
   "cell_type": "code",
   "execution_count": null,
   "id": "8b34fdaf",
   "metadata": {},
   "outputs": [],
   "source": [
    "quibits = np.loadtxt(\"normalised_quibits.txt\", delimiter=' ')\n",
    "\n"
   ]
  },
  {
   "cell_type": "markdown",
   "id": "f54f3d4d",
   "metadata": {},
   "source": [
    "Now calculate the probability that the entire set of quibits are found in the following states. Also find the probability as a percentage.\n",
    "\n",
    "$$ |{1}> , |{1}>, |{1}>, |{1}>, |{0}>, |{1}>, |{0}>, |{0}>, |{1}>, |{0}>$$"
   ]
  },
  {
   "cell_type": "code",
   "execution_count": null,
   "id": "06f30f48",
   "metadata": {},
   "outputs": [],
   "source": []
  },
  {
   "cell_type": "markdown",
   "id": "9276f862",
   "metadata": {},
   "source": [
    "<center>\n",
    "\n",
    "## Exercise 3: Multiple Quibit Measurements\n",
    "\n",
    "</center>"
   ]
  },
  {
   "cell_type": "markdown",
   "id": "d0c853a0",
   "metadata": {},
   "source": [
    "Continuining from the last exercise. Given that \n",
    "\n",
    "$$ |{1}> , |{1}>, |{1}>, |{1}>, |{0}>, |{1}>, |{0}>, |{0}>, |{1}>, |{0}>$$\n",
    "\n",
    "is just one possible state these ten quibits can characterise. How many possible states can these ten quantum objects(quibits) characterise?"
   ]
  },
  {
   "cell_type": "code",
   "execution_count": null,
   "id": "1a48307a",
   "metadata": {},
   "outputs": [],
   "source": []
  },
  {
   "cell_type": "markdown",
   "id": "650d58a6",
   "metadata": {},
   "source": [
    "Create an array/matrix of shape (number_of_possible states,number_of_qubits, where each row is a unique state the quibits can have. \n",
    "\n",
    "(Hint: use binary operations and loops)"
   ]
  },
  {
   "cell_type": "code",
   "execution_count": null,
   "id": "c942c797",
   "metadata": {},
   "outputs": [],
   "source": []
  },
  {
   "cell_type": "markdown",
   "id": "fc0ada1e",
   "metadata": {},
   "source": [
    "Now, create a random,normalised set of states for ten quibits, with shape(number_of_qubits,2),similar to the \"normalised_quibits.txt\" file."
   ]
  },
  {
   "cell_type": "code",
   "execution_count": null,
   "id": "0c272bd8",
   "metadata": {},
   "outputs": [],
   "source": []
  },
  {
   "cell_type": "markdown",
   "id": "3cb6b458",
   "metadata": {},
   "source": [
    "Using the two arrays created above, create an array that contains the probabilities of each possible global state being measured, given the qubits are in this state."
   ]
  },
  {
   "cell_type": "code",
   "execution_count": null,
   "id": "89cf2940",
   "metadata": {},
   "outputs": [],
   "source": []
  },
  {
   "cell_type": "markdown",
   "id": "151ad2a1",
   "metadata": {},
   "source": [
    "Find the sum of this array. Round the answer to two decimal places."
   ]
  },
  {
   "cell_type": "code",
   "execution_count": null,
   "id": "df8139cb",
   "metadata": {},
   "outputs": [],
   "source": []
  },
  {
   "cell_type": "markdown",
   "id": "6d7a648f",
   "metadata": {},
   "source": [
    "## Exercise 4: Matrix Eigenvectors & Eigenvalues\n",
    "\n",
    "Create a random matrix with shape (3,3)."
   ]
  },
  {
   "cell_type": "code",
   "execution_count": null,
   "id": "7c938c8c",
   "metadata": {},
   "outputs": [],
   "source": []
  },
  {
   "cell_type": "markdown",
   "id": "d1c5e564",
   "metadata": {},
   "source": [
    "Find the eigenvalues and eigenvectors of this array"
   ]
  },
  {
   "cell_type": "code",
   "execution_count": null,
   "id": "6d6ee15a",
   "metadata": {},
   "outputs": [],
   "source": []
  },
  {
   "cell_type": "markdown",
   "id": "cd37f9b5",
   "metadata": {},
   "source": [
    "Using the matrix of eigenvectors, diagonalise the original matrix. Round the answer to 3 decimal places."
   ]
  },
  {
   "cell_type": "code",
   "execution_count": null,
   "id": "62f48ac2",
   "metadata": {},
   "outputs": [],
   "source": []
  },
  {
   "cell_type": "markdown",
   "id": "e449f513",
   "metadata": {},
   "source": [
    "The diagonal matrix $D$ was found using the formula\n",
    "\n",
    "$$ D = E^{-1}AE $$\n",
    "\n",
    "Where $A$ is the original matrix, and $E$ is the matrix of eigenvectors. Let's raise both sides of this formula to the power of an integer $n$.\n",
    "\n",
    "$$ D^{n} = (E^{-1}AE)^n $$\n",
    "$$ D^{n} = (E^{-1}AE)(E^{-1}AE)(E^{-1}AE)...(E^{-1}AE) $$\n",
    "\n",
    "Notice that $E^{-1}E=identity$,\n",
    "\n",
    "$$\\implies  D^{n} = E^{-1}A^nE $$\n",
    "\n",
    "And rearranging:\n",
    "\n",
    "$$ ED^{n}E^{-1} = A^n $$\n",
    "\n",
    "Because $D^{n}$ is very easy to calculate, we just raise the diagonal elements to the power of $n$, we have greatly simplified finding the power of a non-diagonal matrix $A$. \n",
    "\n",
    "Use this formula to calculate $A^{30}$"
   ]
  },
  {
   "cell_type": "code",
   "execution_count": null,
   "id": "7ca5c3e5",
   "metadata": {},
   "outputs": [],
   "source": []
  },
  {
   "cell_type": "markdown",
   "id": "629cd76d",
   "metadata": {},
   "source": [
    "Alternatively, you could simply convert $A$ to a matrix with $np.matrix()$ and use $**$, do this and compare your results."
   ]
  },
  {
   "cell_type": "code",
   "execution_count": null,
   "id": "057c57f6",
   "metadata": {},
   "outputs": [],
   "source": []
  }
 ],
 "metadata": {
  "colab": {
   "collapsed_sections": [],
   "name": "PyQM_Ex.1_sol.ipynb",
   "provenance": []
  },
  "deepnote": {},
  "deepnote_execution_queue": [],
  "deepnote_notebook_id": "ea4afaac-11a3-41e4-8e9b-39a77aacc131",
  "kernelspec": {
   "display_name": "Python 3",
   "language": "python",
   "name": "python3"
  },
  "language_info": {
   "codemirror_mode": {
    "name": "ipython",
    "version": 3
   },
   "file_extension": ".py",
   "mimetype": "text/x-python",
   "name": "python",
   "nbconvert_exporter": "python",
   "pygments_lexer": "ipython3",
   "version": "3.8.8"
  }
 },
 "nbformat": 4,
 "nbformat_minor": 1
}
